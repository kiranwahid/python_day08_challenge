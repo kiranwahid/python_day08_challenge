{
  "nbformat": 4,
  "nbformat_minor": 0,
  "metadata": {
    "colab": {
      "provenance": [],
      "authorship_tag": "ABX9TyOoPMYmJcMr8mTgqobBoBbZ",
      "include_colab_link": true
    },
    "kernelspec": {
      "name": "python3",
      "display_name": "Python 3"
    },
    "language_info": {
      "name": "python"
    }
  },
  "cells": [
    {
      "cell_type": "markdown",
      "metadata": {
        "id": "view-in-github",
        "colab_type": "text"
      },
      "source": [
        "<a href=\"https://colab.research.google.com/github/kiranwahid/python_day08_challenge/blob/main/task08_number_guessing_game.ipynb\" target=\"_parent\"><img src=\"https://colab.research.google.com/assets/colab-badge.svg\" alt=\"Open In Colab\"/></a>"
      ]
    },
    {
      "cell_type": "markdown",
      "source": [
        "# Task 08 Number Guessing Game 🤔 in python"
      ],
      "metadata": {
        "id": "6iWWT6G_3Txi"
      }
    },
    {
      "cell_type": "code",
      "execution_count": null,
      "metadata": {
        "id": "-BpTSoV-3O5z"
      },
      "outputs": [],
      "source": [
        "# Importing the random module to generate a random number\n",
        "import random\n",
        "\n",
        "# Function to play the game\n",
        "def play_game():\n",
        "    print(\"\\nWelcome to Guess the Number Game ❤️\")\n",
        "\n",
        "    # Generate a secret number between 50 and 100\n",
        "    secret_number: int = random.randrange(1, 100)\n",
        "\n",
        "    # Set the total number of attempts the player has\n",
        "    attempt: int = 7\n",
        "\n",
        "    # Initialize guess_number to track the number of attempts the player has made\n",
        "    guess_number: int = 0\n",
        "\n",
        "    # Start the loop for the guessing game\n",
        "    while guess_number < attempt:\n",
        "        # Increase the guess count after each guess\n",
        "        guess_number += 1\n",
        "\n",
        "        # Get user input, converting it to an integer\n",
        "        user_gues = int(input(\"Enter a guess between 1 to 100:🤔 \"))\n",
        "\n",
        "        # Check if the user's guess is equal to the secret number\n",
        "        if user_gues == secret_number:\n",
        "            print(f\"\\nWow! Congrats 👏 You guessed it right in {guess_number} attempts 😍😍\")\n",
        "            break  # Exit the loop since the correct guess has been made\n",
        "\n",
        "        # If the user has used all attempts and hasn't guessed correctly\n",
        "        elif guess_number >= attempt and user_gues != secret_number:\n",
        "            print(f\"Oops, the correct number was {secret_number}😒 \")\n",
        "\n",
        "        # If the guess is less than the secret number (too low)\n",
        "        elif user_gues < secret_number:\n",
        "            print(\"\\nToo low. Guess again. 😒\")\n",
        "\n",
        "        # If the guess is greater than the secret number (too high)\n",
        "        elif user_gues > secret_number:\n",
        "            print(\"\\nToo high. Guess again. 🫡\")\n",
        "\n",
        "# Main loop to ask if the user wants to play again\n",
        "while True:\n",
        "    play_game()  # Call the function to play the game\n",
        "\n",
        "    # Ask the user if they want to play again\n",
        "    play_again = input(\"\\nDo you want to play again? (yes/no): \").lower()\n",
        "\n",
        "    # Check if the user says 'no', and break the loop if they don't want to continue\n",
        "    if play_again != \"yes\":\n",
        "        print(\"\\nThank you for playing! Goodbye! 👋\")\n",
        "        break\n"
      ]
    }
  ]
}